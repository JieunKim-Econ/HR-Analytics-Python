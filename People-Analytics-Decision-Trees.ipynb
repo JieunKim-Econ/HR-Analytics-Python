{
 "cells": [
  {
   "cell_type": "markdown",
   "id": "df654b9f-0d0c-4e21-9524-ec27d29a7d1a",
   "metadata": {},
   "source": [
    "# Predicting Employee Churn with Decision Trees in Python \n",
    "***\n",
    "## Introduction to HR Analytics and the Project Overview\n",
    "***"
   ]
  },
  {
   "cell_type": "markdown",
   "id": "540470d7-eb27-442b-b0d5-ab28b0a7da96",
   "metadata": {},
   "source": [
    "Among all of the business domains, HR is still the least disrupted. However, the latest developments in data collection and analysis tools allow for data-driven decision making in all dimensions including HR. Since People analytics is a rapidly growing field, it is the right time to tap into that industry."
   ]
  },
  {
   "cell_type": "markdown",
   "id": "a2d964bf-4e35-4451-adc0-8077d8a893e3",
   "metadata": {},
   "source": [
    "## What is People Analytics?"
   ]
  },
  {
   "cell_type": "markdown",
   "id": "375b813c-fa77-49b9-a5e7-6eec8c1a2e1b",
   "metadata": {},
   "source": [
    "People analytics, also known as HR analytics, is a data-driven approach to managing people at work."
   ]
  },
  {
   "cell_type": "markdown",
   "id": "259ef2da-eb6b-43b7-a304-7819abcf4405",
   "metadata": {},
   "source": [
    "There are many problems in HR that can be addressed using data-driven approach. Among those are decisions related to employee hiring and retention, performance evaluation, collaboration and else. \n",
    "\n",
    "* Hiring/Assessment\n",
    "* Retention\n",
    "* Performance evaluation\n",
    "* Learning and Development\n",
    "* Collaboration/team composition\n",
    "* Other (e.g. absenteeism)\n",
    "\n",
    "In this project, we will concentrate on **Predicting employee turnover**, which is related to the first 2 bullet points: **Hiring and retention.**"
   ]
  },
  {
   "cell_type": "markdown",
   "id": "dab8b517-1154-49cb-84af-fe94b982937e",
   "metadata": {
    "tags": []
   },
   "source": [
    "## Main topic: Employee turnover\n",
    "Employee turnover is the process of employees leaving the company, also known as employee attrition or employee churn. **When skilled employees leave, this can be very costly for the company, thus firms are interested in predicting turnover beforehand.** Having that information in hand, **companies can change their strategy to retain good workers or start the hiring process of new employees on time.**\n",
    "\n",
    "* Employee turnover is the process of employees leaving the company.\n",
    "* Also known as employee attrition or employee churn.\n",
    "* May result in high costs for the company.\n",
    "* May affect company's hiring or retention decisions. "
   ]
  },
  {
   "cell_type": "markdown",
   "id": "eba79691-0648-4d62-b88c-c8fcb500bb59",
   "metadata": {
    "executionTime": 17,
    "lastSuccessfullyExecutedCode": "# Add your code snippets here",
    "tags": []
   },
   "source": [
    "## Dataset\n",
    "\n",
    "In this project, we will use **a sample employee dataset** with variables **that describe employees in the company to predict their turnover and understand what are the most important features affecting it.** "
   ]
  },
  {
   "cell_type": "markdown",
   "id": "2dc82fae-703c-4400-8361-1fa2c6904b63",
   "metadata": {
    "tags": []
   },
   "source": [
    "## Table of contents\n",
    "The first chapter will concentrate on descriptive analytics, where we will transform the dataset and make it ready for developing the predictive model. In the second chapter we will develop an initial model that will then be tuned and improved in the third chapter. The final chapter will introduce techniques that will allow selection of the best model for decision-making.\n",
    "\n",
    "**Chapter 1. Cleaning the dataset and Descriptive analytics** <br>\n",
    "**Chapter 2. Model development: Predicting employee turnover**<br>\n",
    "**Chapter 3. Evaluating the turnover prediction model**<br> \n",
    "**Chapter 4. Selecting the best turnover prediction model**"
   ]
  },
  {
   "cell_type": "markdown",
   "id": "ba396e17-a076-4292-a8ce-7219859b00c9",
   "metadata": {},
   "source": [
    "---"
   ]
  },
  {
   "cell_type": "markdown",
   "id": "397fcd2d-5032-4370-a581-39df9988eadd",
   "metadata": {},
   "source": [
    "# Chapter 1. Make it Descriptive for Predictive"
   ]
  },
  {
   "cell_type": "markdown",
   "id": "9140c37b-3fb3-429a-8fbf-b46136f11bfd",
   "metadata": {},
   "source": [
    "## Finding categorical variables\n",
    "Categorical variables are variables that receive a limited number of values that describe a category. They can be of two types:\n",
    "\n",
    "* **Ordinal** variables have two or more **categories which can be ranked or ordered** (e.g. low, medium, high)\n",
    "* **Nominal** variables have two or more **categories that do not have an intrinsic order** (e.g. men, women)\n",
    "\n",
    "In this exercise, we will find the categorical variables in the dataset. First of all, we will import the `pandas` library and read the CSV file called `turnover.csv`. Then, after viewing the first 5 rows and learning (visually) that there are non-numeric values in the DataFrame, we will get some information about the types of variables that are available in the dataset."
   ]
  },
  {
   "cell_type": "code",
   "execution_count": 73,
   "id": "371403b9-dac2-4d9e-acb2-ebf19d0f875d",
   "metadata": {
    "executionTime": 413,
    "lastSuccessfullyExecutedCode": "# Import pandas (as pd) to read the data\nimport pandas as pd\n\n# Read \"turnover.csv\" and save it in a DataFrame called data\ndata = pd.read_csv(\"datasets/turnover.csv\")\n\n# Take a quick look to the first 5 rows of data\nprint(data.head())\n\n# Get some information on the types of variables in data\ndata.info()"
   },
   "outputs": [
    {
     "name": "stdout",
     "output_type": "stream",
     "text": [
      "   satisfaction  evaluation  number_of_projects  average_montly_hours  \\\n",
      "0          0.38        0.53                   2                   157   \n",
      "1          0.80        0.86                   5                   262   \n",
      "2          0.11        0.88                   7                   272   \n",
      "3          0.72        0.87                   5                   223   \n",
      "4          0.37        0.52                   2                   159   \n",
      "\n",
      "   time_spend_company  work_accident  churn  promotion department  salary  \n",
      "0                   3              0      1          0      sales     low  \n",
      "1                   6              0      1          0      sales  medium  \n",
      "2                   4              0      1          0      sales  medium  \n",
      "3                   5              0      1          0      sales     low  \n",
      "4                   3              0      1          0      sales     low  \n",
      "<class 'pandas.core.frame.DataFrame'>\n",
      "RangeIndex: 14999 entries, 0 to 14998\n",
      "Data columns (total 10 columns):\n",
      " #   Column                Non-Null Count  Dtype  \n",
      "---  ------                --------------  -----  \n",
      " 0   satisfaction          14999 non-null  float64\n",
      " 1   evaluation            14999 non-null  float64\n",
      " 2   number_of_projects    14999 non-null  int64  \n",
      " 3   average_montly_hours  14999 non-null  int64  \n",
      " 4   time_spend_company    14999 non-null  int64  \n",
      " 5   work_accident         14999 non-null  int64  \n",
      " 6   churn                 14999 non-null  int64  \n",
      " 7   promotion             14999 non-null  int64  \n",
      " 8   department            14999 non-null  object \n",
      " 9   salary                14999 non-null  object \n",
      "dtypes: float64(2), int64(6), object(2)\n",
      "memory usage: 1.1+ MB\n"
     ]
    }
   ],
   "source": [
    "# Import pandas (as pd) to read the data\n",
    "import pandas as pd\n",
    "\n",
    "# Read \"turnover.csv\" and save it in a DataFrame called data\n",
    "data = pd.read_csv(\"datasets/turnover.csv\")\n",
    "\n",
    "# Take a quick look to the first 5 rows of data\n",
    "print(data.head())\n",
    "\n",
    "# Get some information on the types of variables in data\n",
    "data.info()"
   ]
  },
  {
   "cell_type": "markdown",
   "id": "64e7a046-4838-493a-822c-927c3bd343eb",
   "metadata": {},
   "source": [
    "We have two columns of type object, `department` and `salary`, which are actually categorical. Let’s explore these in more details."
   ]
  },
  {
   "cell_type": "markdown",
   "id": "d87407c8-40f6-4944-bcc4-0666634b5e0e",
   "metadata": {},
   "source": [
    "## Observing categoricals\n",
    "In our dataset, we have two columns of type object, department and salary, which are actually categorical.\n",
    "* `salary` is an ordinal variable\n",
    "* `department` is a nominal variable\n",
    "\n",
    "Let's print the unique values of those variables."
   ]
  },
  {
   "cell_type": "code",
   "execution_count": 74,
   "id": "f748aa4f-dc2c-4497-bd97-7f9b04905208",
   "metadata": {
    "executionTime": 139,
    "lastSuccessfullyExecutedCode": "# Print the unique values of the \"department\" column\nprint(data.department.unique())\n\n# Print the unique values of the \"salary\" column\nprint(data.salary.unique())"
   },
   "outputs": [
    {
     "name": "stdout",
     "output_type": "stream",
     "text": [
      "['sales' 'accounting' 'hr' 'technical' 'support' 'management' 'IT'\n",
      " 'product_mng' 'marketing' 'RandD']\n",
      "['low' 'medium' 'high']\n"
     ]
    }
   ],
   "source": [
    "# Print the unique values of the \"department\" column\n",
    "print(data.department.unique())\n",
    "\n",
    "# Print the unique values of the \"salary\" column\n",
    "print(data.salary.unique())"
   ]
  },
  {
   "cell_type": "markdown",
   "id": "60775c2f-d818-4bbc-ae3b-22de04aa4047",
   "metadata": {},
   "source": [
    "## Encoding categories for the `salary` variable\n",
    "\n",
    "We need to help our algorithm understand that we're dealing with categories. We will encode categories of the `salary` variable, which is *ordinal* based on the values observed:\n",
    "\n",
    "1. First, we have to tell Python that the salary column is actually categorical.\n",
    "2. Then, we specify the correct order of categories.\n",
    "3. Finally, we should encode each category with a numeric value corresponding to its specific position in the order."
   ]
  },
  {
   "cell_type": "code",
   "execution_count": 75,
   "id": "ac800c1a-76d1-4e34-9233-a0a6caf47d1a",
   "metadata": {
    "executionTime": 0,
    "lastSuccessfullyExecutedCode": "# Change the type of the \"salary\" column to categorical\ndata.salary = data.salary.astype('category')\n\n# Provide the correct order of categories\ndata.salary = data.salary.cat.reorder_categories(['low', 'medium', 'high'])\n\n# Encode categories\ndata.salary = data.salary.cat.codes"
   },
   "outputs": [],
   "source": [
    "# Change the type of the \"salary\" column to categorical\n",
    "data.salary = data.salary.astype('category')\n",
    "\n",
    "# Provide the correct order of categories\n",
    "data.salary = data.salary.cat.reorder_categories(['low', 'medium', 'high'])\n",
    "\n",
    "# Encode categories\n",
    "data.salary = data.salary.cat.codes"
   ]
  },
  {
   "cell_type": "markdown",
   "id": "1a92303b-2cf6-49c3-8455-1082abd451c4",
   "metadata": {},
   "source": [
    "Now, our salary column is now encoded as an ordered category, and optimized for our prediction algorithm!<br>\n",
    "\n",
    "| **Old values** | **New values** |\n",
    "|:--------------:|:--------------:|\n",
    "|       low      |        0       |\n",
    "|     medium     |        1       |\n",
    "|      high      |        2       |"
   ]
  },
  {
   "cell_type": "markdown",
   "id": "b4cd2adf-fa36-433a-922e-9393eef5042b",
   "metadata": {},
   "source": [
    "## Getting dummies for the `department` variable\n",
    "We will now transform the `department` variable, which is *nominal* based on the values observed. To do that, we will use so-called dummy variables.\n",
    "\n",
    "1. `get_dummies()` out of the department column of the data and save them inside a new DataFrame called `departments`.\n",
    "2. Take a quick look at the first 5 rows of the new DataFrame called `departments`."
   ]
  },
  {
   "cell_type": "code",
   "execution_count": 76,
   "id": "4c8a0ebf-609c-4244-8f52-8c5cc29d74a5",
   "metadata": {
    "executionTime": 149,
    "lastSuccessfullyExecutedCode": "# Get dummies and save them inside a new DataFrame\ndepartments = pd.get_dummies(data.department)\n\n# Take a quick look to the first 5 rows of the new DataFrame called departments\nprint(departments.head())"
   },
   "outputs": [
    {
     "name": "stdout",
     "output_type": "stream",
     "text": [
      "   IT  RandD  accounting  hr  management  marketing  product_mng  sales  \\\n",
      "0   0      0           0   0           0          0            0      1   \n",
      "1   0      0           0   0           0          0            0      1   \n",
      "2   0      0           0   0           0          0            0      1   \n",
      "3   0      0           0   0           0          0            0      1   \n",
      "4   0      0           0   0           0          0            0      1   \n",
      "\n",
      "   support  technical  \n",
      "0        0          0  \n",
      "1        0          0  \n",
      "2        0          0  \n",
      "3        0          0  \n",
      "4        0          0  \n"
     ]
    }
   ],
   "source": [
    "# Get dummies and save them inside a new DataFrame\n",
    "departments = pd.get_dummies(data.department)\n",
    "\n",
    "# Take a quick look to the first 5 rows of the new DataFrame called departments\n",
    "print(departments.head())"
   ]
  },
  {
   "cell_type": "markdown",
   "id": "f16b8537-7372-42bb-8a41-626858c4e0b3",
   "metadata": {
    "tags": []
   },
   "source": [
    "**There are 10 departments** in the dataset, so we now get **10 columns**. The first five rows in the dataset refer to people working in the `sales` department, so we get values equal to 1 in the department column, and values equal to 0 in the others."
   ]
  },
  {
   "cell_type": "markdown",
   "id": "0659371a-0047-490e-9e14-bb19f605feeb",
   "metadata": {},
   "source": [
    "## Dummy trap\n",
    "\n",
    "A dummy trap is **a situation where different dummy variables convey the same information.** In this case, if an employee is from the accounting department (i.e. value in the `accounting` column is 1), then you're certain that s/he is not from any other department (values everywhere else are 0). Thus, you could actually learn about his/her department by looking at all the other departments.\n",
    "\n",
    "For that reason, whenever *n* dummies are created (in our case, 10), only *n-1* (in our case, 9) of them are enough, and the *n*th column's information is already included.\n",
    "\n",
    "Thus, we will get rid of the old department column, drop one of the department dummies to avoid dummy trap, and then join the two DataFrames."
   ]
  },
  {
   "cell_type": "code",
   "execution_count": 77,
   "id": "8e0c2a1f-483c-478f-b476-b15aa3faebb9",
   "metadata": {
    "executionTime": 0,
    "lastSuccessfullyExecutedCode": "# Drop the \"accounting\" column to avoid \"dummy trap\"\ndepartments = departments.drop(\"accounting\", axis=1)\n\n# Drop the old column \"department\" as you don't need it anymore\ndata = data.drop(\"department\", axis=1)\n\n# Join the new DataFrame \"departments\" to your employee dataset: done\ndata = data.join(departments)"
   },
   "outputs": [],
   "source": [
    "# Drop the \"accounting\" column to avoid \"dummy trap\"\n",
    "departments = departments.drop(\"accounting\", axis=1)\n",
    "\n",
    "# Drop the old column \"department\" as you don't need it anymore\n",
    "data = data.drop(\"department\", axis=1)\n",
    "\n",
    "# Join the new DataFrame \"departments\" to your employee dataset: done\n",
    "data = data.join(departments)"
   ]
  },
  {
   "cell_type": "markdown",
   "id": "4afeac40-bb91-4757-82db-ca2cc34d24de",
   "metadata": {},
   "source": [
    "Notice that in the new data DataFrame, the `department` column has disappeared, being replaced by a column for each department except `accounting`."
   ]
  },
  {
   "cell_type": "code",
   "execution_count": 78,
   "id": "dfea7df5-0689-491a-9fa7-3f7d36649930",
   "metadata": {
    "executionTime": 199,
    "lastSuccessfullyExecutedCode": "data.head()"
   },
   "outputs": [
    {
     "data": {
      "text/html": [
       "<div>\n",
       "<style scoped>\n",
       "    .dataframe tbody tr th:only-of-type {\n",
       "        vertical-align: middle;\n",
       "    }\n",
       "\n",
       "    .dataframe tbody tr th {\n",
       "        vertical-align: top;\n",
       "    }\n",
       "\n",
       "    .dataframe thead th {\n",
       "        text-align: right;\n",
       "    }\n",
       "</style>\n",
       "<table border=\"1\" class=\"dataframe\">\n",
       "  <thead>\n",
       "    <tr style=\"text-align: right;\">\n",
       "      <th></th>\n",
       "      <th>satisfaction</th>\n",
       "      <th>evaluation</th>\n",
       "      <th>number_of_projects</th>\n",
       "      <th>average_montly_hours</th>\n",
       "      <th>time_spend_company</th>\n",
       "      <th>work_accident</th>\n",
       "      <th>churn</th>\n",
       "      <th>promotion</th>\n",
       "      <th>salary</th>\n",
       "      <th>IT</th>\n",
       "      <th>RandD</th>\n",
       "      <th>hr</th>\n",
       "      <th>management</th>\n",
       "      <th>marketing</th>\n",
       "      <th>product_mng</th>\n",
       "      <th>sales</th>\n",
       "      <th>support</th>\n",
       "      <th>technical</th>\n",
       "    </tr>\n",
       "  </thead>\n",
       "  <tbody>\n",
       "    <tr>\n",
       "      <th>0</th>\n",
       "      <td>0.38</td>\n",
       "      <td>0.53</td>\n",
       "      <td>2</td>\n",
       "      <td>157</td>\n",
       "      <td>3</td>\n",
       "      <td>0</td>\n",
       "      <td>1</td>\n",
       "      <td>0</td>\n",
       "      <td>0</td>\n",
       "      <td>0</td>\n",
       "      <td>0</td>\n",
       "      <td>0</td>\n",
       "      <td>0</td>\n",
       "      <td>0</td>\n",
       "      <td>0</td>\n",
       "      <td>1</td>\n",
       "      <td>0</td>\n",
       "      <td>0</td>\n",
       "    </tr>\n",
       "    <tr>\n",
       "      <th>1</th>\n",
       "      <td>0.80</td>\n",
       "      <td>0.86</td>\n",
       "      <td>5</td>\n",
       "      <td>262</td>\n",
       "      <td>6</td>\n",
       "      <td>0</td>\n",
       "      <td>1</td>\n",
       "      <td>0</td>\n",
       "      <td>1</td>\n",
       "      <td>0</td>\n",
       "      <td>0</td>\n",
       "      <td>0</td>\n",
       "      <td>0</td>\n",
       "      <td>0</td>\n",
       "      <td>0</td>\n",
       "      <td>1</td>\n",
       "      <td>0</td>\n",
       "      <td>0</td>\n",
       "    </tr>\n",
       "    <tr>\n",
       "      <th>2</th>\n",
       "      <td>0.11</td>\n",
       "      <td>0.88</td>\n",
       "      <td>7</td>\n",
       "      <td>272</td>\n",
       "      <td>4</td>\n",
       "      <td>0</td>\n",
       "      <td>1</td>\n",
       "      <td>0</td>\n",
       "      <td>1</td>\n",
       "      <td>0</td>\n",
       "      <td>0</td>\n",
       "      <td>0</td>\n",
       "      <td>0</td>\n",
       "      <td>0</td>\n",
       "      <td>0</td>\n",
       "      <td>1</td>\n",
       "      <td>0</td>\n",
       "      <td>0</td>\n",
       "    </tr>\n",
       "    <tr>\n",
       "      <th>3</th>\n",
       "      <td>0.72</td>\n",
       "      <td>0.87</td>\n",
       "      <td>5</td>\n",
       "      <td>223</td>\n",
       "      <td>5</td>\n",
       "      <td>0</td>\n",
       "      <td>1</td>\n",
       "      <td>0</td>\n",
       "      <td>0</td>\n",
       "      <td>0</td>\n",
       "      <td>0</td>\n",
       "      <td>0</td>\n",
       "      <td>0</td>\n",
       "      <td>0</td>\n",
       "      <td>0</td>\n",
       "      <td>1</td>\n",
       "      <td>0</td>\n",
       "      <td>0</td>\n",
       "    </tr>\n",
       "    <tr>\n",
       "      <th>4</th>\n",
       "      <td>0.37</td>\n",
       "      <td>0.52</td>\n",
       "      <td>2</td>\n",
       "      <td>159</td>\n",
       "      <td>3</td>\n",
       "      <td>0</td>\n",
       "      <td>1</td>\n",
       "      <td>0</td>\n",
       "      <td>0</td>\n",
       "      <td>0</td>\n",
       "      <td>0</td>\n",
       "      <td>0</td>\n",
       "      <td>0</td>\n",
       "      <td>0</td>\n",
       "      <td>0</td>\n",
       "      <td>1</td>\n",
       "      <td>0</td>\n",
       "      <td>0</td>\n",
       "    </tr>\n",
       "  </tbody>\n",
       "</table>\n",
       "</div>"
      ],
      "text/plain": [
       "   satisfaction  evaluation  number_of_projects  average_montly_hours  \\\n",
       "0          0.38        0.53                   2                   157   \n",
       "1          0.80        0.86                   5                   262   \n",
       "2          0.11        0.88                   7                   272   \n",
       "3          0.72        0.87                   5                   223   \n",
       "4          0.37        0.52                   2                   159   \n",
       "\n",
       "   time_spend_company  work_accident  churn  promotion  salary  IT  RandD  hr  \\\n",
       "0                   3              0      1          0       0   0      0   0   \n",
       "1                   6              0      1          0       1   0      0   0   \n",
       "2                   4              0      1          0       1   0      0   0   \n",
       "3                   5              0      1          0       0   0      0   0   \n",
       "4                   3              0      1          0       0   0      0   0   \n",
       "\n",
       "   management  marketing  product_mng  sales  support  technical  \n",
       "0           0          0            0      1        0          0  \n",
       "1           0          0            0      1        0          0  \n",
       "2           0          0            0      1        0          0  \n",
       "3           0          0            0      1        0          0  \n",
       "4           0          0            0      1        0          0  "
      ]
     },
     "execution_count": 78,
     "metadata": {},
     "output_type": "execute_result"
    }
   ],
   "source": [
    "data.head()"
   ]
  },
  {
   "cell_type": "markdown",
   "id": "fa7a4c22-8708-40d3-bb1a-a852bca4bcb3",
   "metadata": {},
   "source": [
    "## Turnover rate: Percentage of employees who churn\n",
    "The column `churn` is providing information about whether an employee has left the company or not is the column churn:\n",
    "\n",
    "* if the value of this column is **0, the employee is still with the company.**\n",
    "* if the value of this column is **1, then the employee has left** the company.\n",
    "\n",
    "\n",
    "Let’s calculate the turnover rate:\n",
    "1. Count the number of times the variable churn has the value 1 and the value 0, respectively.\n",
    "2. Divide both counts by the total, and multiply the result by 100 to get the percentage of employees who left and stayed."
   ]
  },
  {
   "cell_type": "code",
   "execution_count": 79,
   "id": "d1ca0d72-489d-4037-9df2-aa4042c145be",
   "metadata": {
    "executionTime": 209,
    "lastSuccessfullyExecutedCode": "# Use len() function to get the total number of observations and save it as the number of employees\nn_employees = len(data)\n\n# Print the number of employees who left/stayed\nprint(data.churn.value_counts())\n\n# Print the percentage of employees who left/stayed\nprint(data.churn.value_counts()/n_employees*100)"
   },
   "outputs": [
    {
     "name": "stdout",
     "output_type": "stream",
     "text": [
      "0    11428\n",
      "1     3571\n",
      "Name: churn, dtype: int64\n",
      "0    76.191746\n",
      "1    23.808254\n",
      "Name: churn, dtype: float64\n"
     ]
    }
   ],
   "source": [
    "# Use len() function to get the total number of observations and save it as the number of employees\n",
    "n_employees = len(data)\n",
    "\n",
    "# Print the number of employees who left/stayed\n",
    "print(data.churn.value_counts())\n",
    "\n",
    "# Print the percentage of employees who left/stayed\n",
    "print(data.churn.value_counts()/n_employees*100)"
   ]
  },
  {
   "cell_type": "markdown",
   "id": "76a1b601-daa6-48cb-8857-a837c723f8d1",
   "metadata": {},
   "source": [
    "So, the **turnover rate** is **around 24%**. To be specific, **11,428 employees stayed**, which accounts for **about 76% of the total employee** count. On the other hand, **3,571 employees left**, which accounts for about **24% of them.**"
   ]
  },
  {
   "cell_type": "markdown",
   "id": "6fbe90fd-7df1-467c-953e-c71b36ff3206",
   "metadata": {},
   "source": [
    "## Correlations in the employee data"
   ]
  },
  {
   "cell_type": "markdown",
   "id": "5c53b393-22ad-4791-8157-25c9b175f0b2",
   "metadata": {},
   "source": [
    "Next, we want to know **the variables that are in a positive or negative linear relationship with our target.** To see that, we will first of all develop the correlation matrix using the `corr()` method provided by *pandas* and then visualize the matrix using the `heatmap()` function by `seaborn`, a statistical visualization library. \n",
    "\n",
    "The heatmap illustrates that our target varaible `churn` has the highest negative correlation with `satisfaction` level. **That is, the increase in satisfaction level is associated with decrease in probability of turnover.**"
   ]
  },
  {
   "cell_type": "code",
   "execution_count": 80,
   "id": "b3c810d0-9bcc-4d5c-8445-4cdde039f6cd",
   "metadata": {
    "executionTime": 1763,
    "lastSuccessfullyExecutedCode": "import matplotlib.pyplot as plt\nimport seaborn as sns\n\nplt.figure(figsize=(10,9), dpi= 80)\nfeatures=list(['satisfaction','evaluation','number_of_projects','average_montly_hours','time_spend_company','work_accident','churn','promotion','salary'])\ncorr_matrix = data[features].corr()\nax = sns.heatmap(corr_matrix, xticklabels=corr_matrix, yticklabels=corr_matrix, cmap='RdYlGn', center=0, annot=True)\n\nplt.title('Correlations in the employee data', fontsize=18)\nplt.xticks(fontsize=12)\nplt.yticks(fontsize=12)\nplt.show()"
   },
   "outputs": [
    {
     "data": {
      "image/png": "[encoded data removed]",
      "text/plain": [
       "<Figure size 800x720 with 2 Axes>"
      ]
     },
     "metadata": {
      "needs_background": "light"
     },
     "output_type": "display_data"
    }
   ],
   "source": [
    "import matplotlib.pyplot as plt\n",
    "import seaborn as sns\n",
    "\n",
    "plt.figure(figsize=(10,9), dpi= 80)\n",
    "features=list(['satisfaction','evaluation','number_of_projects','average_montly_hours','time_spend_company','work_accident','churn','promotion','salary'])\n",
    "corr_matrix = data[features].corr()\n",
    "ax = sns.heatmap(corr_matrix, xticklabels=corr_matrix, yticklabels=corr_matrix, cmap='RdYlGn', center=0, annot=True)\n",
    "\n",
    "plt.title('Correlations in the employee data', fontsize=18)\n",
    "plt.xticks(fontsize=12)\n",
    "plt.yticks(fontsize=12)\n",
    "plt.show()"
   ]
  },
  {
   "cell_type": "markdown",
   "id": "f5b49ca2-2d9d-4d0c-8259-38451c51c343",
   "metadata": {},
   "source": [
    "We can also see that \n",
    "* The relationship between `evaluation` and `work_accident` is negative.\n",
    "* There is a negative correlation between employee satisfaction and churn.\n",
    "* Increase in the `number_of_projects` is associated with an increase in `average_monthly_hours`."
   ]
  },
  {
   "cell_type": "markdown",
   "id": "0e0ef7c8",
   "metadata": {},
   "source": [
    "---"
   ]
  },
  {
   "cell_type": "markdown",
   "id": "a725643e-8e4b-4138-8bd4-41e08fc51366",
   "metadata": {},
   "source": [
    "# Chapter 2. Model development: Predicting employee turnover"
   ]
  },
  {
   "cell_type": "markdown",
   "id": "fc0e8cf8-ac5d-47b9-88a1-5dcdf0636201",
   "metadata": {},
   "source": [
    "### Part 1. Separating Target vs. Features\n",
    "For now we already know how to transform HR data and make it ready for predictive analytics. **Let's now concentrate on predictive component.** In business analytics or data science terminology, the variable that one aims to predict is known as target, while everything else that is used for prediction are called features. In other words, we will be using features to predict target. Our target is to predict employee turnover using data that we have on them. \n",
    "\n",
    "* **Target**: the dependent variable that we aim to predict. (e.g. Employee churn)\n",
    "* **Feature**: independent variables, i.e. everything else that is used for prediction. We use features to predict target."
   ]
  },
  {
   "cell_type": "code",
   "execution_count": 81,
   "id": "e9c182e7-5297-4f07-8aa8-d3dce5ff03c7",
   "metadata": {},
   "outputs": [],
   "source": [
    "# Set the target and features\n",
    "\n",
    "# Choose the dependent variable column (churn) and set it as target\n",
    "target = data.churn\n",
    "\n",
    "# Drop column churn and set everything else as features\n",
    "features = data.drop(\"churn\",axis=1)"
   ]
  },
  {
   "cell_type": "markdown",
   "id": "782adfd8-57c8-488b-a647-9089aa73e527",
   "metadata": {},
   "source": [
    "### Splitting employee data: Train set vs Test set with `sklearn`\n",
    "**To make an accurate prediction and build an algorithm that can be useful in reality, in analytics it is a usual practice to split the data into two components: train and test.** Train component is used to conduct calculations, optimizations and develop the algorithm, while the remaining test component is used to validate it.\n",
    "\n",
    "* **Train**: the component used to conduct calculations, optimizations, and develop the algorithm .\n",
    "* **Test**: the component used to validate the model.\n",
    "\n",
    "**For that reason, once our data is separated into target and features, the next step is to split both of them into train and test component.** One of most popular Python libraries, that is widely used by data scientists and business analysts is called `sklearn`. In `sklearn`, there is almost always a built-in function for most of the analytics tasks, including train/test splitting. As you can see from the code, the function generates four outputs. This happens because we split between train and test both target and features so we end up with train and test components for target, and similarly for features. "
   ]
  },
  {
   "cell_type": "code",
   "execution_count": 82,
   "id": "5be52886-9e77-476c-b856-5b313ce73271",
   "metadata": {},
   "outputs": [],
   "source": [
    "# Import the function for splitting dataset into train and test\n",
    "from sklearn.model_selection import train_test_split\n",
    "\n",
    "# Use that function to create the splits both for target and for features\n",
    "# Set the test sample to be 25% of your observations\n",
    "target_train, target_test, features_train, features_test = train_test_split(target,features,test_size=0.25,random_state=42)"
   ]
  },
  {
   "cell_type": "markdown",
   "id": "63f2e7c1-66bd-4b1a-a5e0-e97e6be0e079",
   "metadata": {},
   "source": [
    "Last but not least, as you can see the functions takes a `test_size` argument which is **0.25** in our example. This argument tells `sklearn` to **randomly choose 25% of the data and save it as test, while the rest of 75% will be kept for training.** In general, when you have quite a big dataset with millions of observations, around 2-3% for test might be enough. **However, since our datasets in HR are not usually that big, 25% for test seems to be a good practice.**"
   ]
  },
  {
   "cell_type": "markdown",
   "id": "7df119dc-f146-4c2d-b37a-88538cfdce10",
   "metadata": {
    "tags": []
   },
   "source": [
    "### Overfitting\n",
    "To understand better the reasoning behind train/test split, let's shortly cover the concept of overfitting. Overfitting is one of the most popular problems in analytics. Our first target is to have an accurate model that can helps us to make accurate predictions and decisions based on them. **Yet, a model which is accurate on one data, might not be that much accurate on the other. Overfitting happens, when the model works well on the dataset it was developed on, but is not useful outside of it.**\n",
    "\n",
    "* **Overfitting**: an error that occurs when model works well enough for the dataset it was developed on (train), but fails to generalize outside of it (test).\n",
    "\n",
    "To make sure that we achieve a model that is **generalizable**, or in other words, **works good** not only **our current dataset** but also **in possible future datasets**, we need to take the following steps:\n",
    "\n",
    "**1. We split the data into train and test components.**<br>\n",
    "**2. Develop model on train.**<br>\n",
    "**3. Validate it on test to make sure our model is not overfitting the training data.**"
   ]
  },
  {
   "cell_type": "markdown",
   "id": "8a74c59b-e63b-4e4d-9954-848b2d86193a",
   "metadata": {},
   "source": [
    "---"
   ]
  },
  {
   "cell_type": "markdown",
   "id": "30fa061b-bde9-4c06-89d2-f9540df6fe4e",
   "metadata": {
    "tags": []
   },
   "source": [
    "## Part 2. Introduction to Decision Tree classification"
   ]
  },
  {
   "cell_type": "markdown",
   "id": "02ca198b-4b57-4a51-af79-ed9c90581949",
   "metadata": {},
   "source": [
    "We will start the process of building the predictive algorithm. **The purpose of this algorithm** is **1) to learn the important variables affecting the decision of leaving the company**, and **2)to use that information to predict turnover.** **Since the values our target (employee turnover) gets are 1 and 0**, so this problem is called ***binary* classification.**\n",
    "\n",
    "## Decision Tree Classification"
   ]
  },
  {
   "cell_type": "code",
   "execution_count": 83,
   "id": "1d133510",
   "metadata": {},
   "outputs": [
    {
     "data": {
      "image/png": "[encoded data removed]",
      "text/plain": [
       "<Figure size 700x500 with 1 Axes>"
      ]
     },
     "metadata": {
      "needs_background": "light"
     },
     "output_type": "display_data"
    }
   ],
   "source": [
    "import numpy as np\n",
    "import matplotlib.image as mpimg\n",
    "from PIL import Image\n",
    "\n",
    "# Load the image\n",
    "img = mpimg.imread('image/Decision-Tree.JPG')\n",
    "plt.figure(figsize=(7,5), dpi= 100)\n",
    "plt.axis('off')\n",
    "plt.imshow(img)\n",
    "plt.show()"
   ]
  },
  {
   "cell_type": "markdown",
   "id": "359dc602-400d-4b37-b157-41866fefeb39",
   "metadata": {},
   "source": [
    "The picture is the visualization of a sample Decision Tree for employee turnover.Let's go step by step over the tree to understand the classification process. \n",
    "* The tree is growing first starting from the variable `Satisfaction`. It is checked whether for a given employee the satisfaction level was higher than 0.5 or not. If it was, we go to the right branch of the tree, otherwise we move to the left one. \n",
    "* If we moved to the right, then the next question we need to ask according to the tree is whether `Salary` is High or not. If Salary is High, then we reach one of the last nodes or leaves of the tree, where the output is that the employee will not Churn. \n",
    "* Thus we have a decision path: employees with **High Satisfaction level and High Salary** do **NOT Churn**. \n",
    "\n",
    "Analogically, employees with low satisfaction level who spent, say 3 years with the company do Churn as presented by the last leaf of the leftmost branch of the tree. Therefore, **once we have this tree, we can easily predict whether a given employee will churn or not and also understand what are the important variables that drive churn decision.**"
   ]
  },
  {
   "cell_type": "markdown",
   "id": "3fd3eba8-b3c7-4ce4-81db-2d8cd13c53be",
   "metadata": {
    "tags": []
   },
   "source": [
    "## Decision tree splitting: Hypothetical example\n",
    "Total set: 100 observations, 40 left, 60 stayed\n",
    "* Gini: `2*0.4*0.6 = 0.48`\n",
    "\n",
    "Splitting rule: satisfaction > 0.8\n",
    "* **Above 0.8 Satisfaction** (Left Branch with YES): 50 people - *all stayed*\n",
    "* Gini: `2*1*0 = 0`\n",
    "\n",
    "* **Below 0.8 Satisfaction** (Right Branch with NO): 50 people - *40 left and 10 stayed*\n",
    "* Gini: `2*0.4*0.1 = 0.08`\n",
    "\n",
    "This hypothetical splittion results in tremendously decreased Gini: from 0.48 to 0 and 0.08 in two branches respectively. As a result, we have purer samples, especially in the left branch, where we have only stayers, which helps us to make more accurate predictions."
   ]
  },
  {
   "cell_type": "markdown",
   "id": "81acfb5c-ea6b-4c21-9c00-ea3b26e4175a",
   "metadata": {},
   "source": [
    "## Computing Gini index\n",
    "**The decision tree algorithm aims to achieve partitions in the terminal nodes that are as *pure* as possible.** The Gini index is one of the methods used to achieve this. It is calculated based on the proportion of samples in each group.\n",
    "\n",
    "Given the number of people who stayed and left respectively, let's calculate the Gini index for that node.\n",
    "* Calculate the total number of employees in that node.\n",
    "* Compute the Gini index based on proportion of employees in each group."
   ]
  },
  {
   "cell_type": "code",
   "execution_count": 84,
   "id": "a0e26d3a-ce83-414d-aa3f-36abfd97b5cb",
   "metadata": {},
   "outputs": [],
   "source": [
    "# number of people who stayed/left\n",
    "stayed = 37\n",
    "left = 1138\n",
    "\n",
    "# sum of stayed and left\n",
    "total = stayed + left\n",
    "\n",
    "# gini index\n",
    "gini = 2*(left/total)*(stayed/total)"
   ]
  },
  {
   "cell_type": "markdown",
   "id": "3db85bf5-8c76-4248-885f-927b1e11d600",
   "metadata": {},
   "source": [
    "## Splitting the tree\n",
    "Given the Gini index that would result from splitting by either variable A or B, respectively, decide by which variable the tree should split next.\n",
    "* Check which Gini is lower.\n",
    "* If A has lower Gini, split by A, else, split by B."
   ]
  },
  {
   "cell_type": "code",
   "execution_count": 85,
   "id": "9a19047a-17e1-41c1-862e-ab971eeda89f",
   "metadata": {},
   "outputs": [
    {
     "name": "stdout",
     "output_type": "stream",
     "text": [
      "split by B!\n"
     ]
    }
   ],
   "source": [
    "# Gini index in case of splitting by variable A or B\n",
    "gini_A = 0.65\n",
    "gini_B = 0.15\n",
    "\n",
    "# Check which Gini is lower and use it for spliting\n",
    "if gini_A < gini_B:\n",
    "    print(\"split by A!\")\n",
    "else:\n",
    "    print(\"split by B!\")"
   ]
  },
  {
   "cell_type": "markdown",
   "id": "408cd7da-baa3-481b-8a3d-2fdc207c2bd0",
   "metadata": {},
   "source": [
    "---"
   ]
  },
  {
   "cell_type": "markdown",
   "id": "cada9333-d8a5-470a-8827-2984c8b3ad9f",
   "metadata": {},
   "source": [
    "## Part 3. Predicting employee churn using `DecisionTreeClassifier`"
   ]
  },
  {
   "cell_type": "markdown",
   "id": "e18d756e-799c-4722-9eac-b24fcb23a4a1",
   "metadata": {},
   "source": [
    "## Fitting the tree to employee data\n",
    "A train/test split provides the opportunity to develop the classifier on the training component and test it on the rest of the dataset. **We will start developing an employee turnover prediction model using the decision tree classification algorithm.** The algorithm provides a `.fit()` method in order to fit the features to the model in the training set."
   ]
  },
  {
   "cell_type": "code",
   "execution_count": 86,
   "id": "7374c49e-74d2-4142-bbc6-83949f160d06",
   "metadata": {},
   "outputs": [
    {
     "data": {
      "text/plain": [
       "DecisionTreeClassifier(random_state=42)"
      ]
     },
     "execution_count": 86,
     "metadata": {},
     "output_type": "execute_result"
    }
   ],
   "source": [
    "# Import the classification algorithm\n",
    "from sklearn.tree import DecisionTreeClassifier\n",
    "\n",
    "# Initialize it and call model by specifying the random_state parameter\n",
    "model = DecisionTreeClassifier(random_state=42)\n",
    "\n",
    "# Apply a decision tree model to fit features to the target\n",
    "model.fit(features_train, target_train)"
   ]
  },
  {
   "cell_type": "markdown",
   "id": "f772eb67-e6ad-425d-acc5-2f65a6088708",
   "metadata": {},
   "source": [
    "## Checking the accuracy of prediction\n",
    "It's time to check how well our trained model can make predictions! Let’s use test testing set to check the accuracy of our Decision Tree model, with the `score()` method."
   ]
  },
  {
   "cell_type": "code",
   "execution_count": 87,
   "id": "25d0de87-3d38-4a98-a2e6-885c002bb19b",
   "metadata": {},
   "outputs": [
    {
     "name": "stdout",
     "output_type": "stream",
     "text": [
      "train score: 100.0, test score: 97.22666666666666\n"
     ]
    }
   ],
   "source": [
    "# Check the accuracy score of the prediction for the training set\n",
    "trainscore = model.score(features_train, target_train)*100\n",
    "\n",
    "# Check the accuracy score of the prediction for the test set\n",
    "testscore = model.score(features_test,target_test)*100\n",
    "\n",
    "print(f\"train score: {trainscore}, test score: {testscore}\")"
   ]
  },
  {
   "cell_type": "markdown",
   "id": "f0c7366a-3fae-44ff-93ac-2c1a4186f267",
   "metadata": {},
   "source": [
    "As expected, our algorithm did perfectly on the training set (the accuracy of 100%). On the testing set, it was able to correctly predict if an employee would leave or not in almost 98% of the cases! "
   ]
  },
  {
   "cell_type": "markdown",
   "id": "f8853b68-6e97-481e-b8d3-3d250fc74551",
   "metadata": {},
   "source": [
    "---"
   ]
  },
  {
   "cell_type": "markdown",
   "id": "c5b5c263-611b-4b08-b1a4-69e7659c8c11",
   "metadata": {},
   "source": [
    "## Part 4. Interpretation of the decision tree"
   ]
  },
  {
   "cell_type": "markdown",
   "id": "2404b49d-935d-4f53-b469-c3e1c2edfa0b",
   "metadata": {},
   "source": [
    "## Exporting the tree for Visualization\n",
    "In Decision Tree classification tasks, overfitting is usually the result of deeply grown trees. As the comparison of accuracy scores on the train and test sets shows, we have overfitting in our results. This can also be learned from the tree visualization. One of the main advantages of using Decision Tree algorithm, is that it is interpretable. **We can visualize the tree to understand the path taking us to the final decision.**\n",
    "\n",
    "The visualization consists of 3 steps. \n",
    "1. First, one needs to export the tree. It will be exported into a file called `tree.dot` which will reside in the working directory, together with `turnover.csv` dataset file that we are using. \n",
    "2. Then you need to open the file and copy content. \n",
    "3. Last step is going to the webgraphviz website, pasting the content and visualizing the tree.\n",
    "\n",
    "Here, we will export the decision tree into a text document, which can then be used for visualization."
   ]
  },
  {
   "cell_type": "code",
   "execution_count": 88,
   "id": "886474b9-df8a-4772-828d-1264573a41dd",
   "metadata": {},
   "outputs": [],
   "source": [
    "# Import the graphical visualization export function\n",
    "from sklearn.tree import export_graphviz\n",
    "\n",
    "# Apply Decision Tree model to fit Features to the Target\n",
    "model.fit(features_train,target_train)\n",
    "\n",
    "# Export the tree to a dot file\n",
    "export_graphviz(model,\"tree.dot\")"
   ]
  },
  {
   "cell_type": "code",
   "execution_count": 89,
   "id": "72be77c9-5a0c-4697-9578-255ad9d1a824",
   "metadata": {
    "jupyter": {
     "source_hidden": true
    },
    "tags": []
   },
   "outputs": [
    {
     "data": {
      "image/png": "[encoded data removed]",
      "text/plain": [
       "<Figure size 630x450 with 1 Axes>"
      ]
     },
     "metadata": {
      "needs_background": "light"
     },
     "output_type": "display_data"
    }
   ],
   "source": [
    "# Load the image\n",
    "img2 = Image.open('image/cap.PNG')\n",
    "plt.figure(figsize=(7,5), dpi= 90)\n",
    "plt.axis('off')\n",
    "plt.imshow(img2)\n",
    "plt.show()"
   ]
  },
  {
   "cell_type": "markdown",
   "id": "a90220ba-f6cc-40c1-a756-46b31b9b2338",
   "metadata": {},
   "source": [
    "The above graph shows one of the branches of the tree. We can interpretate the graph as follows: \n",
    "\n",
    "* When `average_monthly_hours` is less than or equal to 125, complete purity is achieved. (the tree splits one last time and stops growing.)\n",
    "* Impurity in the node with 1175 samples is lower than in the top node.\n",
    "* The left branch of the tree achieves purity sooner than the right branch."
   ]
  },
  {
   "cell_type": "markdown",
   "id": "3fbc36ee",
   "metadata": {},
   "source": [
    "---"
   ]
  },
  {
   "cell_type": "markdown",
   "id": "03417a06",
   "metadata": {},
   "source": [
    "# Chapter 3. Evaluating the turnover prediction model"
   ]
  },
  {
   "cell_type": "markdown",
   "id": "dfad5fc6",
   "metadata": {},
   "source": [
    "## Part 1. Fighting with overfitting"
   ]
  },
  {
   "cell_type": "markdown",
   "id": "0624ebee",
   "metadata": {},
   "source": [
    "Overfitting is a classic problem in analytics, especially for the decision tree algorithm. Once the tree is fully grown, it may provide highly accurate predictions for the training sample, yet fail to be that accurate on the test set. For that reason, **the growth of the decision tree is usually controlled by:**\n",
    "\n",
    "* Limiting tree maximum depth: Pruning the tree and setting a limit on the maximum depth it can have.\n",
    "* Limiting the minimum number of observations in leafs."
   ]
  },
  {
   "cell_type": "markdown",
   "id": "ff7bbfe0",
   "metadata": {},
   "source": [
    "## Fight with overfitting: (1) Pruning the tree\n",
    "\n",
    "In the below block, we limit the tree depth. This can easily be done by setting an additional parameter `max_depth=5` in the `DecisionTreeClassifier` during the initialization process. It will help us to keep everything else the same, but limit the tree to at most 5 levels to grow in depth.<br>\n",
    "\n",
    "* Initialize `the DecisionTreeClassifier` while limiting the depth of the tree to 5.\n",
    "* Fit the Decision Tree model using the `features` and the `target` in the training set.\n",
    "* Check the accuracy of the predictions on both the training and test sets."
   ]
  },
  {
   "cell_type": "code",
   "execution_count": 90,
   "id": "02e8b30d",
   "metadata": {},
   "outputs": [
    {
     "name": "stdout",
     "output_type": "stream",
     "text": [
      "trainset accuracy: 97.71535247577563, testset accuracy: 97.06666666666666\n"
     ]
    }
   ],
   "source": [
    "# Initialize the DecisionTreeClassifier while limiting the depth of the tree to 5\n",
    "model_depth_5 = DecisionTreeClassifier(max_depth=5, random_state=42)\n",
    "\n",
    "# Fit the model\n",
    "model_depth_5.fit(features_train,target_train)\n",
    "\n",
    "# The accuracy of the prediction for the training set\n",
    "depth5_test = model_depth_5.score(features_train,target_train)*100\n",
    "\n",
    "# The accuracy of the prediction for the test set\n",
    "depth5_train = model_depth_5.score(features_test,target_test)*100\n",
    "\n",
    "print(f\"trainset accuracy: {depth5_test}, testset accuracy: {depth5_train}\")"
   ]
  },
  {
   "cell_type": "markdown",
   "id": "0d22b800",
   "metadata": {},
   "source": [
    "As a result, the accuracy is decreased on both sets, but **the difference between them is negligible, which means we reduced overfitting and current model is more realistic.**"
   ]
  },
  {
   "cell_type": "markdown",
   "id": "a7e7db99",
   "metadata": {},
   "source": [
    "## Fight with overfitting: (2) Limiting the sample size\n",
    "\n",
    "Another method to prevent overfitting is to specify the minimum number of observations necessary to grow a leaf (or node), in the Decision Tree. In this block, we implement everything absolutely the same, apart from the model initialization step again: this time we set `min_sample_leaf=100` to limit the sample size inside a leaf.\n",
    "\n",
    "* Set this minimum limit to 100\n",
    "* Fit the new model to the employee data\n",
    "* Examine prediction results on both training and test sets"
   ]
  },
  {
   "cell_type": "code",
   "execution_count": 91,
   "id": "c7b4eab2",
   "metadata": {},
   "outputs": [
    {
     "name": "stdout",
     "output_type": "stream",
     "text": [
      "trainset accuracy: 96.57747355320473, testset accuracy: 96.13333333333334\n"
     ]
    }
   ],
   "source": [
    "# Initialize the DecisionTreeClassifier while limiting the sample size in leaves to 100\n",
    "model_sample_100 = DecisionTreeClassifier(min_samples_leaf=100, random_state=42)\n",
    "\n",
    "# Fit the model\n",
    "model_sample_100.fit(features_train,target_train)\n",
    "\n",
    "# The accuracy of the prediction (in percentage points) for the training set\n",
    "sample100_train = model_sample_100.score(features_train,target_train)*100\n",
    "\n",
    "# the accuracy of the prediction (in percentage points) for the test set\n",
    "sample100_test = model_sample_100.score(features_test,target_test)*100\n",
    "\n",
    "print(f\"trainset accuracy: {sample100_train}, testset accuracy: {sample100_test}\")"
   ]
  },
  {
   "cell_type": "markdown",
   "id": "e0068a07",
   "metadata": {},
   "source": [
    "After fitting and scoring this new model, we receive a test accuracy of 96.13% which is again lower, but more realistic than the old one."
   ]
  },
  {
   "cell_type": "markdown",
   "id": "64ae39ad",
   "metadata": {},
   "source": [
    "---\n",
    "## Part 2. Calculating accuracy metrics"
   ]
  },
  {
   "cell_type": "markdown",
   "id": "add8027a",
   "metadata": {},
   "source": [
    "Before now, we were using only general accuracy score to evaluate the performance of our model. However, it turns out only accuracy is not enough to claim that the model is a good one. <br>\n",
    "\n",
    "To understand what other metrics of evaluation are doing, let me introduce you to prediction errors first. We have two possible outcomes in reality, which means, in general, we have 4 possible situations presented in this so called **confusion matrix**. Based on this 4 possibilities, many different metrics are developed in analytics to measure performance of the model."
   ]
  },
  {
   "cell_type": "code",
   "execution_count": 92,
   "id": "68e940fa",
   "metadata": {
    "scrolled": false
   },
   "outputs": [
    {
     "data": {
      "image/png": "[encoded data removed]",
      "text/plain": [
       "<Figure size 450x450 with 1 Axes>"
      ]
     },
     "metadata": {
      "needs_background": "light"
     },
     "output_type": "display_data"
    }
   ],
   "source": [
    "# Load the image\n",
    "img3 = Image.open('image/Confusion Matrix.PNG')\n",
    "plt.figure(figsize=(5,5), dpi= 90)\n",
    "plt.title('The Confusion Matrix')\n",
    "plt.axis('off')\n",
    "plt.imshow(img3)\n",
    "plt.show()"
   ]
  },
  {
   "cell_type": "markdown",
   "id": "b4942bdd",
   "metadata": {},
   "source": [
    "***\n",
    "$\\mathbf{\\text{Performance measure metrics}}$<br>\n",
    "***\n",
    "$$Accuracy = \\frac{TP+TN}{TP+TN+FP+FN} $$\n",
    "$$Specificity = \\frac{TN}{TN+FP}$$\n",
    "$$Preicision = \\frac{TP}{TP+FP}$$\n",
    "$$TPR = Sensitivity = \\frac{TP}{TP+FN}$$\n",
    "$$FPR = 1-Specificity = \\frac{FP}{TN+FP}$$\n"
   ]
  },
  {
   "cell_type": "markdown",
   "id": "3e1c7432",
   "metadata": {},
   "source": [
    "### (1) Precision Score: Focus on FP\n",
    "\n",
    "If we are interested in learning what is the percentage of people who **truly left** the company among those who were **predicted to leave**, then **Precision score** will be handy to use. **The reason those scores are important is that general accuracy is not providing information about separate classes.** For example, in our model around 76% are stayers. So if we just say \"everybody is staying\" we will have 76% accurate prediction. But in terms of recall, we will have very low value, as everybody who churned will be wrongly classified.\n",
    "\n",
    "### If target is leavers, we may focus on FP:\n",
    "* **Preicison score = TP / (TP + FP)**\n",
    "* Lower FP, Higher Precision score.\n",
    "* Precision score: % of leavers in reality, among those predicted to leave."
   ]
  },
  {
   "cell_type": "code",
   "execution_count": 93,
   "id": "7103c76c",
   "metadata": {
    "scrolled": true
   },
   "outputs": [
    {
     "data": {
      "text/plain": [
       "92.40641711229947"
      ]
     },
     "execution_count": 93,
     "metadata": {},
     "output_type": "execute_result"
    }
   ],
   "source": [
    "# Import the function to calculate precision score\n",
    "from sklearn.metrics import precision_score\n",
    "\n",
    "# Predict whether employees will churn using the test set\n",
    "prediction = model.predict(features_test)\n",
    "\n",
    "# Calculate precision score by comparing target_test with the prediction\n",
    "precision_score(target_test, prediction)*100"
   ]
  },
  {
   "cell_type": "markdown",
   "id": "5bbb2778",
   "metadata": {},
   "source": [
    "### (2) Specificity score: Focus on FP\n",
    "One the other hand, if you want to keep your **attention on those who stay**, less False Positives will be your target, which can be achieved with higher **Specificity score.**\n",
    "\n",
    "### If target is stayers, focus on FP:\n",
    "* **Specificity = TN / (TN + FP)**\n",
    "* Lower FP, Higher Specificity\n",
    "* Specificity - % of correct predictions amongs stayers.\n",
    "\n",
    "### (3) Recall score: Focus on FN\n",
    "If the target of predictions is mostly to **focus on those who are churning**, then we want to have less False Negatives, people who **leave in reality but your algorithm is unable to predict it**. For that reason, **Recall score** can be useful. Higher values of recall correspond lower values of False Negatives.<br>\n",
    "\n",
    "### If target is leavers, focus on FN:\n",
    "* **Recall score = TP / (TP + FN)**\n",
    "* Lower FN, Higher Recall score\n",
    "* Recall score: % of correct predictions among leavers."
   ]
  },
  {
   "cell_type": "code",
   "execution_count": 94,
   "id": "c9da67ef",
   "metadata": {},
   "outputs": [
    {
     "data": {
      "text/plain": [
       "96.32107023411372"
      ]
     },
     "execution_count": 94,
     "metadata": {},
     "output_type": "execute_result"
    }
   ],
   "source": [
    "# Import the function to calculate recall score\n",
    "from sklearn.metrics import recall_score\n",
    "\n",
    "# Use the initial model to predict churn\n",
    "prediction = model.predict(features_test)\n",
    "\n",
    "# Calculate recall score by comparing target_test with the prediction\n",
    "recall_score(target_test, prediction)*100"
   ]
  },
  {
   "cell_type": "markdown",
   "id": "9ace144b",
   "metadata": {},
   "source": [
    "---\n",
    "## Part 3. Targeting both leavers and stayers"
   ]
  },
  {
   "cell_type": "markdown",
   "id": "eea829bf",
   "metadata": {},
   "source": [
    "### AUC score: keeping an eye on recall and specificity at the same time\n",
    "If our target are leavers, we would concentrate on recall, if stayers, then on specificity. But **if the target is to have good predictions on both, then probably the best choice is to use AUC score.** \n",
    "\n",
    "* Area Under Curve (AUC): a compound measure that is maximized when both recall and specificity are maximized.\n",
    "* Place Recall **(TPR) on vertical**, and 1- Specificity **(FPR) on horizontal axis**. \n",
    "* Draw the **ROC (Receiver Operating Characteristic)** curve, illustrating the performance of a binary classification model by plotting **the \"trade-off\" between its true positive rate (sensitivity) and false positive rate (1 - specificity)** across different classification thresholds.\n",
    "* AUC score: The area between ROC and the black diagonal line that a random prediction could obtain.\n",
    "\n",
    "Using AUC as a target to maximize, the model will try to correctly classify both 1s and 0s keeping an eye on recall and specificity at the same time."
   ]
  },
  {
   "cell_type": "code",
   "execution_count": 95,
   "id": "0c84fce4",
   "metadata": {},
   "outputs": [
    {
     "data": {
      "image/png": "[encoded data removed]",
      "text/plain": [
       "<Figure size 432x288 with 1 Axes>"
      ]
     },
     "metadata": {
      "needs_background": "light"
     },
     "output_type": "display_data"
    }
   ],
   "source": [
    "from sklearn.metrics import roc_auc_score, roc_curve\n",
    "\n",
    "# Use initial model to predict churn (based on features_test)\n",
    "prediction = model.predict(features_test)\n",
    "\n",
    "# Calculate ROC/AUC score by comparing target_test with the prediction\n",
    "auc_score = roc_auc_score(target_test, prediction)\n",
    "\n",
    "# Calculate the false positive rate, true positive rate, and thresholds\n",
    "fpr, tpr, thresholds = roc_curve(target_test, prediction)\n",
    "\n",
    "# Plot the ROC curve\n",
    "plt.plot(fpr, tpr, label='ROC curve (AUC = %0.2f)' % auc_score)\n",
    "plt.plot([0, 1], [0, 1], 'k--')  # Random guessing line\n",
    "plt.xlim([0.0, 1.0])\n",
    "plt.ylim([0.0, 1.02])\n",
    "plt.xlabel('False Positive Rate')\n",
    "plt.ylabel('True Positive Rate')\n",
    "plt.title('ROC curve with AUC score')\n",
    "plt.legend(loc=\"lower right\")\n",
    "plt.grid(True)\n",
    "plt.show()"
   ]
  },
  {
   "cell_type": "markdown",
   "id": "988bdf84",
   "metadata": {},
   "source": [
    "---\n",
    "## Part 4. Class imbalance"
   ]
  },
  {
   "cell_type": "markdown",
   "id": "54e1c004",
   "metadata": {},
   "source": [
    "General accuracy score is a good choice only if classes in the dataset are balanced. However,**class imbalance** may lead to **higher accuracy score, when in fact our model is failing to correctly predict churn.** This was the reason we covered evaluation metrics other than accuracy score. While those other metrics are more robust and informative, they only partially solve the class imbalance problem. **To solve it**, what we can do is **to change prior probabilities.**<br>\n",
    "\n",
    "**Gini index** was **the objective of our Decision tree to minimize and it was calculated based on probability of being 1 or 0.** As we have **no other information about probabilities**, in the very beginning, when the **tree just starts to grow**, in order to calculate the Gini index, it **takes proportions of 0s and 1s as probabilities in Gini formula.** **As a result, Class 0, which are stayers, becomes more influential as they are 76% of the observations in our dataset.** This is the reason, our algorithm was able to correctly predict 0s but not 1s. <br>\n",
    "\n",
    "**To solve it, we just need to tell Python to balance class weights which will make probability of both being 0 and 1 equal to 50%.** This will probably negatively affect the general accuracy as a result of increased Gini, but AUC and especially Recall should probably be improved, as now both classes are equally important.\n",
    "\n",
    "\n",
    "| **Without balance** | **With balanec** |\n",
    "|:--------------:|:--------------:|\n",
    "|       $P_0$ = 0.76      |        $P_0$ = 0.5       |\n",
    "|     $P_1$ = 0.24     |        $P_1$ = 0.5      |\n",
    "|      $Gini$ = 0.36      |        $Gini$ = 0.5      |"
   ]
  },
  {
   "cell_type": "markdown",
   "id": "d28f8834",
   "metadata": {},
   "source": [
    "## Balancing classes\n",
    "It can significantly affect prediction results, as shown by the difference between the recall and accuracy scores. To solve the imbalance, equal weights are usually given to each class. Using the `class_weight` argument in sklearn's `DecisionTreeClassifier`, one can make the classes become `balanced`.\n",
    "\n",
    "Let’s correct our model by solving its imbalance problem:\n",
    "\n",
    "* First, we set up a model with balanced classes.\n",
    "* Then, fit it to the training data.\n",
    "* Lastly, check its accuracy on the test set by printing the accuracy `score` of the prediction (in percentage points) for the thest set. "
   ]
  },
  {
   "cell_type": "code",
   "execution_count": 96,
   "id": "072d7f7b",
   "metadata": {},
   "outputs": [
    {
     "name": "stdout",
     "output_type": "stream",
     "text": [
      "Accuracy of Balanced model: 93.71%\n"
     ]
    }
   ],
   "source": [
    "# Initialize the DecisionTreeClassifier \n",
    "model_depth_5_b = DecisionTreeClassifier(max_depth=5,class_weight=\"balanced\",random_state=42)\n",
    "\n",
    "# Fit the model\n",
    "model_depth_5_b.fit(features_train,target_train)\n",
    "\n",
    "# Print the accuracy of the prediction (in percentage points) for the test set\n",
    "print(f\"Accuracy of Balanced model: {model_depth_5_b.score(features_test,target_test)*100:.2f}%\")"
   ]
  },
  {
   "cell_type": "markdown",
   "id": "3999cace",
   "metadata": {},
   "source": [
    "## Comparison of Employee attrition models\n",
    "Our next task is **to compare the balanced and imbalanced (default) models** using the pruned tree (`max_depth=7`). The imbalanced model is already done using recall and ROC/AUC scores. Lets' complete the same steps for the balanced model.\n",
    "\n",
    "* Initialize the balanced model, setting its maximum depth to 7, and its seed to 42.\n",
    "* Fit it to the training component using the training set.\n",
    "* Make predictions using the testing set.\n",
    "* Print the recall score and ROC/AUC score with `recall_score()` and `roc_auc_score()`."
   ]
  },
  {
   "cell_type": "code",
   "execution_count": 97,
   "id": "ebb562f3",
   "metadata": {
    "scrolled": true
   },
   "outputs": [
    {
     "name": "stdout",
     "output_type": "stream",
     "text": [
      "Imbalanced model's recall score: 96.32%\n",
      "Imbalanced model's ROC/AUC score: 96.92%\n",
      "Balanced model's recall score: 93.20%\n",
      "Balanced model's recall score: 95.99%\n"
     ]
    }
   ],
   "source": [
    "# Print the recall score\n",
    "print(f\"Imbalanced model's recall score: {recall_score(target_test,prediction)*100:.2f}%\")\n",
    "# Print the ROC/AUC score\n",
    "print(f\"Imbalanced model's ROC/AUC score: {roc_auc_score(target_test,prediction)*100:.2f}%\")\n",
    "\n",
    "# Initialize the model\n",
    "model_depth_7_b = DecisionTreeClassifier(max_depth=7,class_weight=\"balanced\",random_state=42)\n",
    "# Fit it to the training component\n",
    "model_depth_7_b.fit(features_train,target_train)\n",
    "# Make prediction using test component\n",
    "prediction_b = model_depth_7_b.predict(features_test)\n",
    "# Print the recall score for the balanced model\n",
    "print(f\"Balanced model's recall score: {recall_score(target_test, prediction_b)*100:.2f}%\") \n",
    "# Print the ROC/AUC score for the balanced model\n",
    "print(f\"Balanced model's recall score: {roc_auc_score(target_test, prediction_b)*100:.2f}%\") "
   ]
  },
  {
   "cell_type": "markdown",
   "id": "35374102",
   "metadata": {},
   "source": [
    "---\n",
    "# Chapter 4. Choosing the best turnover prediction model"
   ]
  },
  {
   "cell_type": "markdown",
   "id": "46c19b08",
   "metadata": {},
   "source": [
    "### In this final chapter, \n",
    "1. We learn how to use cross-validation to avoid overfitting the training data. \n",
    "2. We learn how to know which features are impactful, and which are negligible. \n",
    "3. We use these newly acquired skills to build a better performing Decision Tree!"
   ]
  },
  {
   "cell_type": "markdown",
   "id": "584dc24a",
   "metadata": {},
   "source": [
    "## Part 1. Cross-validation using `sklearn`"
   ]
  },
  {
   "cell_type": "markdown",
   "id": "9402e6f1",
   "metadata": {},
   "source": [
    "As explained in Chapter 2, overfitting the dataset is a common problem in analytics. This happens when a model has learned the data too closely: it has great performances on the dataset it was trained on, but fails to generalize outside of it. <br>\n",
    "\n",
    "While the train/test split technique we used in Chapter 2 ensures that the model does not overfit the training set, **hyperparameter tuning** may result in overfitting the test component, since it consists in tuning the model to get the best prediction results on the test set. Therefore, **it is recommended to validate the model on different testing sets.** **K-fold cross-validation** allows us to achieve this: <br>\n",
    "\n",
    "* It splits the dataset into a training set and a testing set\n",
    "* It fits the model, makes predictions and calculates a score (we can specify if we want the accuracy, precision, recall etc)\n",
    "* It repeats the process k times in total\n",
    "* It outputs the average of the 10 scores <br>\n",
    "\n",
    "In this exercise, we will use Cross Validation on our dataset, and evaluate our results with the `cross_val_score function`."
   ]
  },
  {
   "cell_type": "code",
   "execution_count": 98,
   "id": "8a177d21",
   "metadata": {},
   "outputs": [
    {
     "name": "stdout",
     "output_type": "stream",
     "text": [
      "[0.98533333 0.98533333 0.974      0.96533333 0.96       0.97933333\n",
      " 0.99       0.99333333 1.         1.        ]\n"
     ]
    }
   ],
   "source": [
    "# Import the function for implementing cross validation\n",
    "from sklearn.model_selection import cross_val_score\n",
    "\n",
    "# Use that function to print the cross validation score for 10 folds\n",
    "print(cross_val_score(model,features,target,cv=10))"
   ]
  },
  {
   "cell_type": "markdown",
   "id": "ce561046",
   "metadata": {},
   "source": [
    "## Setting up GridSearch parameters\n",
    "A hyperparameter is a parameter inside a function. For example, `max_depth` or `min_samples_leaf` are hyperparameters of the `DecisionTreeClassifier()` function. **Hyperparameter tuning is the process of *testing different values of hyperparameters to find the optimal ones*: the one that gives the best predictions according to your objectives.** In `sklearn`, you can use **GridSearch** to test different combinations of hyperparameters. Even better, you can use `GridSearchCV()` to test different combinations and run cross-validation on them in one function!\n",
    "\n",
    "In this exercise, we are going to prepare the different values you want to test for `max_depth` and `min_samples_leaf`. We will then put these in a dictionary, because that’s what is required for `GridSearchCV()`:\n",
    "\n",
    "* The dictionary keys will be the hyperparameters names\n",
    "* The dictionary values will be the attributes (the hyperparameter values) you want to test\n",
    "\n",
    "Instead of writing all the values manually, we will use the `range()` function, which allows us to generate values incrementally. For example, `range(1, 10, 2)` will generate a list containing values ranging from 1 included to 10 not included, by increments of 2. So the final result will be `[1, 3, 5, 7, 9]`."
   ]
  },
  {
   "cell_type": "code",
   "execution_count": 99,
   "id": "192d458d",
   "metadata": {},
   "outputs": [],
   "source": [
    "# Generate values for maximum depth, ranging from 5 to 20 with increments of 1\n",
    "depth = [i for i in range(5,21,1)]\n",
    "\n",
    "# Generate values for minimum sample size with values from 50 to 450 with increments of 50\n",
    "samples = [i for i in range(50,500,50)]\n",
    "\n",
    "# Create the dictionary with parameters to be checked\n",
    "parameters = dict(max_depth=depth, min_samples_leaf=samples)"
   ]
  },
  {
   "cell_type": "markdown",
   "id": "d74f80f1",
   "metadata": {},
   "source": [
    "## Implementing GridSearch\n",
    "We can now use the sklearn `GridSearchCV()` function to find the best combination of all of the `max_depth` and `min_samples_leaf` values we generated in the previous exercise.\n",
    "\n",
    "* Import the `GridSearchCV` function\n",
    "* Apply a `GridSearchCV()` function to our model using the parameters dictionary we defined earlier. Save this as `param_search`.\n",
    "* Fit `param_search` to the **training** dataset.\n",
    "* Print the best parameters found using `best_params_` attribute."
   ]
  },
  {
   "cell_type": "code",
   "execution_count": 100,
   "id": "9b2e77a6",
   "metadata": {},
   "outputs": [
    {
     "name": "stdout",
     "output_type": "stream",
     "text": [
      "{'max_depth': 5, 'min_samples_leaf': 50}\n"
     ]
    }
   ],
   "source": [
    "# import the GridSearchCV function\n",
    "from sklearn.model_selection import GridSearchCV\n",
    "\n",
    "# set up parameters: done\n",
    "parameters = dict(max_depth=depth, min_samples_leaf=samples)\n",
    "\n",
    "# initialize the param_search function using the GridSearchCV function, initial model and parameters above\n",
    "param_search = GridSearchCV(model, parameters, cv=3)\n",
    "\n",
    "# fit the param_search to the training dataset\n",
    "param_search.fit(features_train, target_train)\n",
    "\n",
    "# print the best parameters found\n",
    "print(param_search.best_params_)"
   ]
  },
  {
   "cell_type": "markdown",
   "id": "787652b8",
   "metadata": {},
   "source": [
    "---\n",
    "## Part 2. Important features for predicting attrition"
   ]
  },
  {
   "cell_type": "markdown",
   "id": "cb0b984f",
   "metadata": {},
   "source": [
    "One of the main reasons we chose to use **Decision Tree algorithm** is that it **provides interpretability**. We can not only visualize and explain it, but we can also **understand what are the important features that drive the decision to leave the company.**<br>\n",
    "\n",
    "Fortunately, once Decision Tree is developed, `sklearn` can easily calculate feature importances. The latter is equal to the relative decrease in Gini due to the selected feature. Once the calculation is done for all features, the values are rescaled to sum up to 100%. As a result, **higher percentage** speaks about **the feature being more important**. Usually, results show that not all the features are that important. As a consequence, **if you learn that a feature is not important at all**, it is **suggested to drop it and run the model without that feature.**\n",
    "* Importance is calculated as relative decrease in Gini due to the selected feature. \n",
    "* Importance are scaled to sum up to 100%.\n",
    "* Higher percentage, Higher importance."
   ]
  },
  {
   "cell_type": "markdown",
   "id": "4b073ed7",
   "metadata": {},
   "source": [
    "## Sorting important features\n",
    "\n",
    "Among other things, Decision Trees are very popular because of their interpretability. Many models can provide accurate predictions, but **Decision Trees can also quantify the effect of the different features on the target.** Here, it can tell you **which features have the strongest and weakest impacts on the decision to leave the company**. In `sklearn`, you can get this information by using the `feature_importances_` attribute. <br>\n",
    "\n",
    "In this exercise, **we're going to 1) get the quantified importance of each feature, 2) save them in a pandas `DataFrame`, and 3) sort them from the most important to the less important.** The `model_ best` Decision Tree Classifier used in the previous exercises is available, as well as the `features_test` and `features_train` variables.\n",
    "\n",
    "* Use the `feature_importances_` attribute to calculate relative feature importances.\n",
    "* Create a list of features.\n",
    "* Save the results inside a `DataFrame` using the `DataFrame()` function, where the features are rows and their respective values are a column.\n",
    "* Sort the `relative_importances` DataFrame to get the most important features on top using the `sort_values()` function and print the result."
   ]
  },
  {
   "cell_type": "code",
   "execution_count": 101,
   "id": "f18e8cd4",
   "metadata": {},
   "outputs": [
    {
     "data": {
      "text/html": [
       "<div>\n",
       "<style scoped>\n",
       "    .dataframe tbody tr th:only-of-type {\n",
       "        vertical-align: middle;\n",
       "    }\n",
       "\n",
       "    .dataframe tbody tr th {\n",
       "        vertical-align: top;\n",
       "    }\n",
       "\n",
       "    .dataframe thead th {\n",
       "        text-align: right;\n",
       "    }\n",
       "</style>\n",
       "<table border=\"1\" class=\"dataframe\">\n",
       "  <thead>\n",
       "    <tr style=\"text-align: right;\">\n",
       "      <th></th>\n",
       "      <th>importance</th>\n",
       "    </tr>\n",
       "  </thead>\n",
       "  <tbody>\n",
       "    <tr>\n",
       "      <th>satisfaction</th>\n",
       "      <td>0.453971</td>\n",
       "    </tr>\n",
       "    <tr>\n",
       "      <th>time_spend_company</th>\n",
       "      <td>0.397473</td>\n",
       "    </tr>\n",
       "    <tr>\n",
       "      <th>evaluation</th>\n",
       "      <td>0.104644</td>\n",
       "    </tr>\n",
       "    <tr>\n",
       "      <th>average_montly_hours</th>\n",
       "      <td>0.033545</td>\n",
       "    </tr>\n",
       "    <tr>\n",
       "      <th>number_of_projects</th>\n",
       "      <td>0.007103</td>\n",
       "    </tr>\n",
       "    <tr>\n",
       "      <th>technical</th>\n",
       "      <td>0.002226</td>\n",
       "    </tr>\n",
       "    <tr>\n",
       "      <th>hr</th>\n",
       "      <td>0.001038</td>\n",
       "    </tr>\n",
       "    <tr>\n",
       "      <th>promotion</th>\n",
       "      <td>0.000000</td>\n",
       "    </tr>\n",
       "    <tr>\n",
       "      <th>salary</th>\n",
       "      <td>0.000000</td>\n",
       "    </tr>\n",
       "    <tr>\n",
       "      <th>work_accident</th>\n",
       "      <td>0.000000</td>\n",
       "    </tr>\n",
       "    <tr>\n",
       "      <th>RandD</th>\n",
       "      <td>0.000000</td>\n",
       "    </tr>\n",
       "    <tr>\n",
       "      <th>management</th>\n",
       "      <td>0.000000</td>\n",
       "    </tr>\n",
       "    <tr>\n",
       "      <th>marketing</th>\n",
       "      <td>0.000000</td>\n",
       "    </tr>\n",
       "    <tr>\n",
       "      <th>product_mng</th>\n",
       "      <td>0.000000</td>\n",
       "    </tr>\n",
       "    <tr>\n",
       "      <th>sales</th>\n",
       "      <td>0.000000</td>\n",
       "    </tr>\n",
       "    <tr>\n",
       "      <th>support</th>\n",
       "      <td>0.000000</td>\n",
       "    </tr>\n",
       "    <tr>\n",
       "      <th>IT</th>\n",
       "      <td>0.000000</td>\n",
       "    </tr>\n",
       "  </tbody>\n",
       "</table>\n",
       "</div>"
      ],
      "text/plain": [
       "                      importance\n",
       "satisfaction            0.453971\n",
       "time_spend_company      0.397473\n",
       "evaluation              0.104644\n",
       "average_montly_hours    0.033545\n",
       "number_of_projects      0.007103\n",
       "technical               0.002226\n",
       "hr                      0.001038\n",
       "promotion               0.000000\n",
       "salary                  0.000000\n",
       "work_accident           0.000000\n",
       "RandD                   0.000000\n",
       "management              0.000000\n",
       "marketing               0.000000\n",
       "product_mng             0.000000\n",
       "sales                   0.000000\n",
       "support                 0.000000\n",
       "IT                      0.000000"
      ]
     },
     "execution_count": 101,
     "metadata": {},
     "output_type": "execute_result"
    }
   ],
   "source": [
    "# Initialize the best model according to the previous GridSearchCV result \n",
    "model_best = DecisionTreeClassifier(class_weight='balanced', max_depth=5, min_samples_leaf=50, random_state=42)\n",
    "\n",
    "# Fit it to the training component\n",
    "model_best.fit(features_train,target_train)\n",
    "\n",
    "# Make prediction using test component\n",
    "prediction_best = model_best.predict(features_test)\n",
    "\n",
    "# Calculate feature importances\n",
    "feature_importances = model_best.feature_importances_\n",
    "\n",
    "# Create a list of features: done\n",
    "feature_list = list(features)\n",
    "\n",
    "# Save the results inside a DataFrame using feature_list as an index\n",
    "relative_importances = pd.DataFrame(index=feature_list, data=feature_importances, columns=[\"importance\"])\n",
    "\n",
    "# Sort values to learn most important features\n",
    "relative_importances.sort_values(by=\"importance\", ascending=False)"
   ]
  },
  {
   "cell_type": "markdown",
   "id": "9d1dadaf",
   "metadata": {},
   "source": [
    "### It seems that `satisfaction` is by far the **most impactful feature on the decision to leave** the company or not."
   ]
  },
  {
   "cell_type": "markdown",
   "id": "86797ee7",
   "metadata": {},
   "source": [
    "## Selecting important features\n",
    "\n",
    "In this exercise, we want to select **only the most important features** that will be used by the final model. Remember, that the relative importances are saved in the column importance of the DataFrame called `relative_importances`. <br>\n",
    "\n",
    "* Select only the features with an importance value higher than 1%.\n",
    "* Create a list from those features and print them.\n",
    "* Using the index saved in `selected_list`, transform both `features_train` and `features_test` to include the features with an importance higher than 1% only."
   ]
  },
  {
   "cell_type": "code",
   "execution_count": 102,
   "id": "22515aa2",
   "metadata": {},
   "outputs": [
    {
     "name": "stdout",
     "output_type": "stream",
     "text": [
      "Index(['satisfaction', 'evaluation', 'average_montly_hours',\n",
      "       'time_spend_company'],\n",
      "      dtype='object')\n"
     ]
    }
   ],
   "source": [
    "# select only features with relative importance higher than 1%\n",
    "selected_features = relative_importances[relative_importances.importance > 0.01]\n",
    "\n",
    "# create a list from those features\n",
    "selected_list = selected_features.index\n",
    "print(selected_list)\n",
    "\n",
    "# transform both features_train and features_test components to include only selected features\n",
    "features_train_selected = features_train[selected_list]\n",
    "features_test_selected = features_test[selected_list]"
   ]
  },
  {
   "cell_type": "markdown",
   "id": "834176b8",
   "metadata": {},
   "source": [
    "### As a result, only 4 features have been retained out of the 17 original ones: \n",
    "`satisfaction`, `evaluation`, `average_montly_hours`, `time_spend_company`."
   ]
  },
  {
   "cell_type": "markdown",
   "id": "e6473177",
   "metadata": {},
   "source": [
    "## Develop and test the best model\n",
    "\n",
    "In Chapter 3, we found out that the following parameters allow you to get better model:\n",
    "\n",
    "* `max_depth` = 5,\n",
    "* `min_samples_leaf` = 50,\n",
    "* `class_weight` = \"balanced\"\n",
    "\n",
    "In this chapter, we discovered that some of the features have a negligible impact. We realized that we could get accurate predictions using just a small number of selected, impactful features. We updated our training and testing set accordingly, creating the variables `features_train_selected` and `features_test_selected`. <br>\n",
    "\n",
    "With all this information at disposal, we're now going to develop the best model for predicting employee turnover and evaluate it using the appropriate metrics.\n",
    "\n",
    "* Initialize the best model using the parameters provided in the description.\n",
    "* Fit the model using only the selected features from the training set.\n",
    "* Make a prediction based on the selected features from the test set.\n",
    "* Print the accuracy, recall and ROC/AUC scores of the model."
   ]
  },
  {
   "cell_type": "code",
   "execution_count": 107,
   "id": "59462c3c",
   "metadata": {},
   "outputs": [
    {
     "name": "stdout",
     "output_type": "stream",
     "text": [
      "General accuracy score: 93.47%\n",
      "Reall score: 91.97%\n",
      "ROC/AUC score: 92.95%\n"
     ]
    }
   ],
   "source": [
    "# Initialize the best model using parameters provided in description\n",
    "model_best = DecisionTreeClassifier(max_depth=5, min_samples_leaf= 50, class_weight=\"balanced\", random_state=42)\n",
    "\n",
    "# Fit the model using only selected features from training set: done\n",
    "model_best.fit(features_train_selected, target_train)\n",
    "\n",
    "# Make prediction based on selected list of features from test set\n",
    "prediction_best = model_best.predict(features_test_selected)\n",
    "\n",
    "# Print the general accuracy of the model_best\n",
    "print(f\"General accuracy score: {model_best.score(features_test_selected, target_test) * 100:.2f}%\")\n",
    "\n",
    "# Print the recall score of the model predictions\n",
    "print(f\"Reall score: {recall_score(target_test, prediction_best) * 100:.2f}%\")\n",
    "\n",
    "# Print the ROC/AUC score of the model predictions\n",
    "print(f\"ROC/AUC score: {roc_auc_score(target_test, prediction_best) * 100:.2f}%\")"
   ]
  },
  {
   "cell_type": "markdown",
   "id": "02ac6851",
   "metadata": {},
   "source": [
    "---\n",
    "# 🚪 Outro"
   ]
  },
  {
   "cell_type": "markdown",
   "id": "44e8dfb9",
   "metadata": {},
   "source": [
    "We have mastered predicting churn using Decision Trees. One thing that I would like to note here, is that although we concentrated on this model, Decision Trees are not the only choice to predict employee turnover. <br>\n",
    "\n",
    "## Alternative methods\n",
    "One very popular alternative used widely in HR analytics is Logistic Regression. You may still use Python and `sklearn` to make predictions with Logistic Regression using the evaluation metrics and approaches discussed in this project. While single Decision Tree is good, sometimes many is better. The tree based algorithms like Random Forest or Gradient Boosting usually provide better results than a single Decision Tree. <br>\n",
    "\n",
    "**The reason we use single one, is that those complex models are not interpretable and cannot be visualized to make decisions using Decision path.** Last but not least, Neural networks are popular alternative nowadays for many prediction tasks including turnover prediction. However, they are considered a black box and do not provide the clue behind their predictions, which especially in HR is very important. \n",
    "* Logistic Regression\n",
    "* Tree based algorithms: Random Forest, Gradient Boosting\n",
    "* Neutral networks\n",
    "\n",
    "As we have completed this project, now my suggestion would be to take some other HR datasets and attach your predictive skills on them following the same order of tasks that we have completed."
   ]
  }
 ],
 "metadata": {
  "colab": {
   "name": "Welcome to DataCamp Workspaces.ipynb",
   "provenance": []
  },
  "editor": "DataCamp Workspace",
  "kernelspec": {
   "display_name": "Python 3",
   "language": "python",
   "name": "python3"
  },
  "language_info": {
   "codemirror_mode": {
    "name": "ipython",
    "version": 3
   },
   "file_extension": ".py",
   "mimetype": "text/x-python",
   "name": "python",
   "nbconvert_exporter": "python",
   "pygments_lexer": "ipython3",
   "version": "3.8.8"
  },
  "toc-autonumbering": false,
  "toc-showmarkdowntxt": false,
  "toc-showtags": false,
  "varInspector": {
   "cols": {
    "lenName": 16,
    "lenType": 16,
    "lenVar": 40
   },
   "kernels_config": {
    "python": {
     "delete_cmd_postfix": "",
     "delete_cmd_prefix": "del ",
     "library": "var_list.py",
     "varRefreshCmd": "print(var_dic_list())"
    },
    "r": {
     "delete_cmd_postfix": ") ",
     "delete_cmd_prefix": "rm(",
     "library": "var_list.r",
     "varRefreshCmd": "cat(var_dic_list()) "
    }
   },
   "types_to_exclude": [
    "module",
    "function",
    "builtin_function_or_method",
    "instance",
    "_Feature"
   ],
   "window_display": false
  }
 },
 "nbformat": 4,
 "nbformat_minor": 5
}
